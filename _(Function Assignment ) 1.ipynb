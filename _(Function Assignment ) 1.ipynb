{
 "cells": [
  {
   "cell_type": "code",
   "execution_count": null,
   "id": "0d09135c-4991-4478-8e54-60acaa4feaff",
   "metadata": {},
   "outputs": [],
   "source": [
    " 1. What is a lambda function in Python, and how does it differ from a regular function?\n",
    "\n"
   ]
  },
  {
   "cell_type": "code",
   "execution_count": null,
   "id": "b46debb4-9a28-4134-a024-c7389bd4db61",
   "metadata": {},
   "outputs": [],
   "source": [
    " Ans-   \n",
    "                 A lambda function, also known as an anonymous function, is a function that is defined without a name. It is a small, one-line function that can take any number of arguments, but can only have one expression. Lambda functions are often used as a shortcut for simple functions that are only used once.\n",
    "\n",
    "Here's an example of a lambda function that multiplies two numbers:\n",
    "\n",
    "\n",
    "multiply = lambda x, y: x * y\n",
    "\n",
    "\n",
    "This function takes two arguments, `x` and `y`, and returns their product. The `lambda` keyword is used to define the function, and the arguments are listed before the colon. The expression that the function returns is listed after the colon.\n",
    "\n",
    "Lambda functions are similar to regular functions in that they can take arguments and return values. However, there are a few key differences:\n",
    "\n",
    "1. Lambda functions are defined without a name, whereas regular functions are defined with a name.\n",
    "2. Lambda functions can only have one expression, whereas regular functions can have multiple statements and expressions.\n",
    "3. Lambda functions are typically used for simple functions that are only used once, whereas regular functions are used for more complex tasks.\n",
    "\n",
    "Here's an example of a regular function that multiplies two numbers:\n",
    "\n",
    "\n",
    "def multiply(x, y):\n",
    "    return x * y\n",
    "\n",
    "\n",
    "This function takes two arguments, `x` and `y`, and returns their product. The function is defined with the `def` keyword, and the function name is listed after the keyword. The arguments are listed in parentheses, and the function body is indented below the function definition. The function returns a value using the `return` keyword.\n",
    "\n",
    "Overall, lambda functions are a useful tool for simplifying code and making it more concise, especially when you need to define a small function that is only used once.\n"
   ]
  },
  {
   "cell_type": "code",
   "execution_count": null,
   "id": "b98cf51f-ea38-4b96-be18-32db8a6c5da7",
   "metadata": {},
   "outputs": [],
   "source": [
    "2. Can a lambda function in Python have multiple arguments? If yes, how can you define and use them?"
   ]
  },
  {
   "cell_type": "code",
   "execution_count": null,
   "id": "dd5ceda6-e1e0-4f0d-a0bb-471b2f7b04b5",
   "metadata": {},
   "outputs": [],
   "source": [
    "Ans- \n",
    "\n",
    "                  Yes, a lambda function in Python can have multiple arguments. You can define a lambda function with any number of arguments by separating the arguments with commas. Here's an example of a lambda function that takes two arguments and returns their sum:\n",
    "\n",
    "\n",
    "add = lambda x, y: x + y\n",
    "\n",
    "\n",
    "This function takes two arguments, `x` and `y`, and returns their sum. The `lambda` keyword is used to define the function, and the arguments are listed before the colon. The expression that the function returns is listed after the colon.\n",
    "\n",
    "To use the lambda function, you can call it with the arguments separated by commas:\n",
    "\n",
    "\n",
    "result = add(3, 4)\n",
    "print(result)\n",
    "\n",
    "\n",
    "This will output `7`, which is the sum of `3` and `4`.\n",
    "\n",
    "You can define lambda functions with any number of arguments by separating the arguments with commas. For example, here's a lambda function that takes three arguments and returns their product:\n",
    "\n",
    "\n",
    "multiply = lambda x, y, z: x * y * z\n",
    "\n",
    "\n",
    "This function takes three arguments, `x`, `y`, and `z`, and returns their product. To use the function, you can call it with three arguments separated by commas:\n",
    "\n",
    "\n",
    "result = multiply(2, 3, 4)\n",
    "print(result)\n",
    "\n",
    "\n",
    "This will output `24`, which is the product of `2`, `3`, and `4`.\n",
    "\n"
   ]
  },
  {
   "cell_type": "code",
   "execution_count": null,
   "id": "3ecff581-ac03-4568-8c67-78156a35d314",
   "metadata": {},
   "outputs": [],
   "source": [
    "3. How are lambda functions typically used in Python? Provide an example use case."
   ]
  },
  {
   "cell_type": "code",
   "execution_count": null,
   "id": "b173a047-8c65-4a8a-92f4-c099119e400b",
   "metadata": {},
   "outputs": [],
   "source": [
    " Ans-\n",
    "             Lambda functions are typically used in Python when you need a small, anonymous function for a short period of time. They are often used as arguments to higher-order functions (functions that take other functions as arguments), such as `map()`, `filter()`, and `reduce()`. \n",
    "\n",
    "Lambda functions are also useful when you need to define a function in a single line of code. For example, you might use a lambda function to define a key function for sorting a list of tuples by the second element:\n",
    "\n",
    "\n",
    "lst = [(1, 2), (3, 1), (5, 9), (2, 4)]\n",
    "sorted_lst = sorted(lst, key=lambda x: x[1])\n",
    "print(sorted_lst)\n",
    "\n",
    "\n",
    "This code sorts the list of tuples `lst` by the second element of each tuple. The `lambda` function takes a tuple `x` and returns its second element `x[1]`. The `key` argument of the `sorted()` function specifies that the list should be sorted based on the values returned by the `lambda` function.\n",
    "\n",
    "Lambda functions are also useful when you need to create a function on the fly that performs a specific task. For example, you might use a lambda function to create a function that squares a number:\n",
    "\n",
    "\n",
    "square = lambda x: x**2\n",
    "print(square(5))\n",
    "\n",
    "\n",
    "This code creates a lambda function that takes a number `x` and returns its square `x**2`. The `square()` function is then called with an argument of `5`, which returns `25`.\n",
    "\n",
    "\n",
    "\n",
    "  For example = \n",
    "\n",
    "                   Certainly! Here's an example of how you might use a lambda function with the `map()` function to apply a function to each element of a list:\n",
    "\n",
    "\n",
    "lst = [1, 2, 3, 4, 5]\n",
    "squared_lst = list(map(lambda x: x**2, lst))\n",
    "print(squared_lst)\n",
    "\n",
    "\n",
    "This code creates a list `lst` containing the numbers `1` through `5`. The `map()` function applies the lambda function `lambda x: x**2` to each element of the list, returning a new list containing the squares of the original numbers. The `list()` function is used to convert the result of `map()` into a list, which is then printed to the console.\n",
    "\n",
    "Here's an example of how you might use a lambda function with the `filter()` function to filter a list based on a condition:\n",
    "\n",
    "\n",
    "lst = [1, 2, 3, 4, 5]\n",
    "even_lst = list(filter(lambda x: x % 2 == 0, lst))\n",
    "print(even_lst)\n",
    "\n",
    "\n",
    "This code creates a list `lst` containing the numbers `1` through `5`. The `filter()` function applies the lambda function `lambda x: x % 2 == 0` to each element of the list, returning a new list containing only the even numbers. The `list()` function is used to convert the result of `filter()` into a list, which is then printed to the console.\n",
    "\n",
    " \n",
    "\n",
    "\n"
   ]
  },
  {
   "cell_type": "code",
   "execution_count": null,
   "id": "bf47664f-4310-4c3c-bdf6-0dcda8bc6d37",
   "metadata": {},
   "outputs": [],
   "source": [
    "4. What are the advantages and limitations of lambda functions compared to regular functions in  Python?\n",
    "\n"
   ]
  },
  {
   "cell_type": "code",
   "execution_count": null,
   "id": "e99786af-0b56-4e48-9f03-a7bc0b3f967f",
   "metadata": {},
   "outputs": [],
   "source": [
    "\n",
    "      lambda  functions have several advantages over regular functions in Python:\n",
    "\n",
    "1. Concise syntax: Lambda functions can be defined in a single line of code, making them ideal for simple functions that don't require a lot of code.\n",
    "\n",
    "2. Anonymous: Lambda functions don't \n",
    "    require a name, so they can be defined on the fly and used as arguments to other functions.\n",
    "\n",
    "3. Function composition: Lambda functions can be used to create higher-order functions that take other functions as arguments.\n",
    "\n",
    "4. Readability: Lambda functions can make code more readable by eliminating the need for temporary variables.\n",
    "\n",
    "However, there are also some limitations to using lambda functions:\n",
    "\n",
    "1. Limited functionality: Lambda functions can only contain a single expression, so they are not well-suited for complex functions that require multiple statements.\n",
    "\n",
    "2. No documentation: Lambda functions don't support docstrings, so it can be difficult to understand what a lambda function does without reading its code.\n",
    "\n",
    "3. Reduced reusability: Lambda functions are designed to be used once and discarded, so they are not well-suited for functions that need to be reused throughout a program.\n",
    "\n",
    "4. Debugging: Because lambda functions don't have names, it can be difficult to debug code that uses lambda functions.\n",
    "\n",
    "Overall, lambda functions are a powerful tool in Python that can help simplify code and improve readability, but they should be used judiciously and with an understanding of their limitations.\n",
    "\n"
   ]
  },
  {
   "cell_type": "code",
   "execution_count": null,
   "id": "9b9c59d6-eb19-49a2-874e-50d630ca4841",
   "metadata": {},
   "outputs": [],
   "source": [
    "5. Are lambda functions in Python able to access variables defined outside of their own scope?\n",
    "Explain with an example.\n"
   ]
  },
  {
   "cell_type": "code",
   "execution_count": null,
   "id": "a965f852-dbbe-4807-a03d-33c1eaf444b5",
   "metadata": {},
   "outputs": [],
   "source": [
    "  Yes, lambda functions in Python can access variables defined outside of their own scope. This is because lambda functions have access to the variables in the enclosing scope, just like regular functions do. This is known as lexical scoping, and it means that lambda functions can use variables defined in the same block of code or in an outer block of code.\n",
    "\n",
    "\n",
    "def outer_func(x):\n",
    "    y = 10\n",
    "    return lambda z: x + y + z\n",
    "\n",
    "inner_func = outer_func(5)\n",
    "result = inner_func(15)\n",
    "print(result)\n"
   ]
  },
  {
   "cell_type": "code",
   "execution_count": null,
   "id": "55b81c05-66b8-47c8-aed3-a70293ae8ec7",
   "metadata": {},
   "outputs": [],
   "source": [
    "7. Create a lambda function to find the maximum value in a list of integers."
   ]
  },
  {
   "cell_type": "code",
   "execution_count": null,
   "id": "ff06d120-a03d-4964-b6f5-e14f0e671623",
   "metadata": {},
   "outputs": [],
   "source": [
    " Ans-\n",
    "                     \n",
    "\n",
    "numbers = [5, 10, 15, 20, 25]\n",
    "\n",
    "max_value = lambda x: max(x)\n",
    "\n",
    "result = max_value(numbers)\n",
    "\n",
    "print(result)\n",
    "\n",
    "\n",
    "In this code, we define a list of integers called `numbers`. We then define a lambda function `max_value` that takes a single argument `x` and returns the maximum value in the list using the built-in `max()` function. Finally, we call the lambda function with the `numbers` list as the argument, which results in the maximum value in the list, or `25`. We assign the result to the `result` variable and print it to the console.\n"
   ]
  },
  {
   "cell_type": "code",
   "execution_count": null,
   "id": "42171476-78e2-42db-9517-e192779a8eec",
   "metadata": {},
   "outputs": [],
   "source": [
    " 8. Implement a lambda function to filter out all the even numbers from a list of integers. "
   ]
  },
  {
   "cell_type": "code",
   "execution_count": null,
   "id": "67009551-8545-4715-8d7a-29dfcd413d25",
   "metadata": {},
   "outputs": [],
   "source": [
    "Ans-\n",
    "             \n",
    "\n",
    "numbers = [1, 2, 3, 4, 5, 6, 7, 8, 9, 10]\n",
    "\n",
    "even_numbers = list(filter(lambda x: x % 2 == 0, numbers))\n",
    "\n",
    "print(even_numbers)\n",
    "\n",
    "\n",
    "In this code, we define a list of integers called `numbers`. We then use the built-in `filter()` function to create a new list called `even_numbers` that contains only the even numbers from the original `numbers` list. We pass a lambda function to the `filter()` function that takes a single argument `x` and returns `True` if `x` is even (i.e., its remainder when divided by 2 is 0). Finally, we convert the `filter()` object to a list and print it to the console, which results in the even numbers `[2, 4, 6, 8, 10]`.\n",
    "\n",
    "I hope this helps! Let me know if you have any other questions.\n",
    "[16:47, 6/22/2023]  \n",
    "\n",
    "\n",
    "\n",
    "         In coded form = \n",
    "                         Here's an example of a lambda function that filters out all the even numbers from a list of integers:\n",
    "\n",
    "\n",
    "numbers = [1, 2, 3, 4, 5, 6, 7, 8, 9, 10]\n",
    "\n",
    "even_numbers = list(filter(lambda x: x % 2 == 0, numbers))\n",
    "\n",
    "print(even_numbers)\n",
    "\n",
    "\n",
    "In this code, we define a list of integers called `numbers`. We then use the built-in `filter()` function to create a new list called `even_numbers` that contains only the even numbers from the original `numbers` list. We pass a lambda function to the `filter()` function that takes a single argument `x` and returns `True` if `x` is even (i.e., its remainder when divided by 2 is 0). Finally, we convert the `filter()` object to a list and print it to the console, which results in the even numbers `[2, 4, 6, 8, 10]`.\n"
   ]
  },
  {
   "cell_type": "code",
   "execution_count": null,
   "id": "7469bef3-7208-44b5-b45b-55a1bdf97bc6",
   "metadata": {},
   "outputs": [],
   "source": [
    "9. Write a lambda function to sort a list of strings in ascending order based on the length of each string.\n",
    "  \n"
   ]
  },
  {
   "cell_type": "code",
   "execution_count": null,
   "id": "128bdfe5-b4da-4592-b7a2-c923e2efbd2d",
   "metadata": {},
   "outputs": [],
   "source": [
    " Ans-\n",
    "          \n",
    "                words = ['apple', 'banana', 'cherry', 'date', 'elderberry']\n",
    "\n",
    "sorted_words = sorted(words, key=lambda x: len(x))\n",
    "\n",
    "print(sorted_words)\n",
    "\n",
    "\n",
    "In this code, we define a list of strings called `words`. We then use the built-in `sorted()` function to create a new list called `sorted_words` that contains the same strings as the original `words` list, but sorted in ascending order based on the length of each string. We pass a lambda function to the `key` parameter of the `sorted()` function that takes a single argument `x` (which represents each string in the list) and returns the length of `x`. Finally, we print the `sorted_words` list to the console, which results in the sorted list `['date', 'apple', 'banana', 'cherry', 'elderberry']`.\n",
    "\n",
    "I hope this helps! Let me know if you have any other questions.\n",
    "\n",
    "\n",
    "\n",
    "\n",
    "           Code =\n",
    "                           Here's an example of a lambda function that sorts a list of strings in ascending order based on the length of each string:\n",
    "\n",
    "\n",
    "words = ['apple', 'banana', 'cherry', 'date', 'elderberry']\n",
    "\n",
    "sorted_words = sorted(words, key=lambda x: len(x))\n",
    "\n",
    "print(sorted_words)\n",
    "\n",
    "\n",
    "In this code, we define a list of strings called `words`. We then use the built-in `sorted()` function to create a new list called `sorted_words` that contains the same strings as the original `words` list, but sorted in ascending order based on the length of each string. We pass a lambda function to the `key` parameter of the `sorted()` function that takes a single argument `x` (which represents each string in the list) and returns the length of `x`. Finally, we print the `sorted_words` list to the console, which results in the sorted list `['date', 'apple', 'banana', 'cherry', 'elderberry']`.\n"
   ]
  },
  {
   "cell_type": "code",
   "execution_count": null,
   "id": "cb40a312-d854-4751-b386-9d1880df7005",
   "metadata": {},
   "outputs": [],
   "source": [
    "10. Create a lambda function that takes two lists as input and returns a new list containing the common elements between the two lists."
   ]
  },
  {
   "cell_type": "code",
   "execution_count": null,
   "id": "eec0b226-c818-4839-b2bd-1a07d7db1460",
   "metadata": {},
   "outputs": [],
   "source": [
    "\n",
    "  Ans-\n",
    "                     list1 = [1, 2, 3, 4, 5]\n",
    "list2 = [3, 4, 5, 6, 7]\n",
    "\n",
    "common_elements = list(filter(lambda x: x in list1, list2))\n",
    "\n",
    "print(common_elements)\n",
    "\n",
    "\n",
    "In this code, we define two lists called `list1` and `list2`. We then use the built-in `filter()` function to create a new list called `common_elements` that contains only the elements in `list2` that are also in `list1`. We pass a lambda function to the `filter()` function that takes a single argument `x` (which represents each element in `list2`) and returns `True` if `x` is also in `list1`, and `False` otherwise. Finally, we print the `common_elements` list to the console, which results in the list `[3, 4, 5]`.\n",
    "\n",
    "I hope this helps! Let me know if you have any other questions.\n",
    "\n",
    "\n",
    "\n",
    "\n",
    "Code = \n",
    "\n",
    "        Here's an example of a lambda function that takes two lists as input and returns a new list containing the common elements between the two lists:\n",
    "\n",
    "\n",
    "list1 = [1, 2, 3, 4, 5]\n",
    "list2 = [3, 4, 5, 6, 7]\n",
    "\n",
    "common_elements = list(filter(lambda x: x in list1, list2))\n",
    "\n",
    "print(common_elements)\n",
    "\n",
    "\n",
    "In this code, we define two lists called `list1` and `list2`. We then use the built-in `filter()` function to create a new list called `common_elements` that contains only the elements in `list2` that are also in `list1`. We pass a lambda function to the `filter()` function that takes a single argument `x` (which represents each element in `list2`) and returns `True` if `x` is also in `list1`, and `False` otherwise. Finally, we print the `common_elements` list to the console, which results in the list `[3, 4, 5]`.\n",
    "\n",
    "\n",
    "\n",
    "\n"
   ]
  },
  {
   "cell_type": "code",
   "execution_count": null,
   "id": "2798c226-9ac5-48d1-becd-0e36cb2ae81a",
   "metadata": {},
   "outputs": [],
   "source": [
    " 12. Implement a recursive function to compute the nth Fibonacci number."
   ]
  },
  {
   "cell_type": "code",
   "execution_count": null,
   "id": "b6c6f295-7d62-4e59-993c-6715a32c7c18",
   "metadata": {},
   "outputs": [],
   "source": [
    "Ans-\n",
    "\n",
    "                    def fibonacci(n):\n",
    "    if n <= 1:\n",
    "        return n\n",
    "    else:\n",
    "        return fibonacci(n-1) + fibonacci(n-2)\n",
    "\n",
    "\n",
    "In this code, we define a function called `fibonacci` that takes a single argument `n`. If `n` is less than or equal to 1, we simply return `n`. Otherwise, we recursively call the `fibonacci` function with arguments `n-1` and `n-2`, and return the sum of the two results. This continues until we reach the base case of `n <= 1`.\n",
    "\n",
    "To use this function, simply call it with the desired value of `n`. For example, to compute the 10th Fibonacci number, we would call `fibonacci(10)`, which would return the value `55`.\n",
    "\n"
   ]
  },
  {
   "cell_type": "code",
   "execution_count": null,
   "id": "53ab5a16-cdf8-4b89-ba68-c24a1b5368d2",
   "metadata": {},
   "outputs": [],
   "source": [
    "13. Create a recursive function to find the sum of all the elements in a given list."
   ]
  },
  {
   "cell_type": "code",
   "execution_count": null,
   "id": "044faaf6-0bbc-47fc-b1ff-3b290d119024",
   "metadata": {},
   "outputs": [],
   "source": [
    "Ans-\n",
    "                    Here's an example of a recursive function that finds the sum of all the elements in a given list:\n",
    "\n",
    "\n",
    "def sum_list(lst):\n",
    "    if len(lst) == 0:\n",
    "        return 0\n",
    "    else:\n",
    "        return lst[0] + sum_list(lst[1:])\n",
    "\n",
    "\n",
    "In this code, we define a function called `sum_list` that takes a single argument `lst`. If the length of the list is 0, we simply return 0. Otherwise, we recursively call the `sum_list` function with the tail of the list (i.e., all the elements except the first one), and add the first element to the result. This continues until we reach the base case of `len(lst) == 0`.\n",
    "\n",
    "To use this function, simply call it with the desired list as an argument. For example, to find the sum of the list `[1, 2, 3, 4, 5]`, we would call `sum_list([1, 2, 3, 4, 5])`, which would return the value `15’\n",
    "\n",
    "\n",
    "\n",
    "\n",
    "\n"
   ]
  },
  {
   "cell_type": "code",
   "execution_count": null,
   "id": "1218bfe7-8a5c-4895-806e-3f6600793c7d",
   "metadata": {},
   "outputs": [],
   "source": [
    "14. Write a recursive function to determine whether a given string is a palindrome."
   ]
  },
  {
   "cell_type": "code",
   "execution_count": null,
   "id": "025d2dc3-8543-4b5f-adaa-ae0dd46fcfa6",
   "metadata": {},
   "outputs": [],
   "source": [
    "Ans-\n",
    "                    def is_palindrome(s):\n",
    "    if len(s) <= 1:\n",
    "        return True\n",
    "    else:\n",
    "        return s[0] == s[-1] and is_palindrome(s[1:-1])\n",
    "\n",
    "\n",
    "In this code, we define a function called `is_palindrome` that takes a single argument `s`. If the length of the string is less than or equal to 1, we simply return `True`. Otherwise, we check whether the first and last characters of the string are equal, and recursively call the `is_palindrome` function with the substring between the first and last characters. This continues until we reach the base case of `len(s) <= 1`.\n",
    "\n",
    "To use this function, simply call it with the desired string as an argument. For example, to check whether the string `\"racecar\"` is a palindrome, we would call `is_palindrome(\"racecar\")`, which would return the value `True`.\n",
    "\n",
    "\n",
    "\n",
    "\n",
    "\n",
    "\n",
    "\n",
    "\n"
   ]
  },
  {
   "cell_type": "code",
   "execution_count": null,
   "id": "92ad019d-0b11-4031-9fed-106d21c7bc10",
   "metadata": {},
   "outputs": [],
   "source": [
    "15. Implement a recursive function to find the greatest common divisor (GCD) of two positive integers.\n",
    "  \n"
   ]
  },
  {
   "cell_type": "code",
   "execution_count": null,
   "id": "b6bacbfa-e3c8-433a-9cec-b3a79ef35f9e",
   "metadata": {},
   "outputs": [],
   "source": []
  }
 ],
 "metadata": {
  "kernelspec": {
   "display_name": "Python 3 (ipykernel)",
   "language": "python",
   "name": "python3"
  },
  "language_info": {
   "codemirror_mode": {
    "name": "ipython",
    "version": 3
   },
   "file_extension": ".py",
   "mimetype": "text/x-python",
   "name": "python",
   "nbconvert_exporter": "python",
   "pygments_lexer": "ipython3",
   "version": "3.10.6"
  }
 },
 "nbformat": 4,
 "nbformat_minor": 5
}
